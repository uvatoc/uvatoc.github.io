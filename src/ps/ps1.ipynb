{
 "cells": [
  {
   "cell_type": "markdown",
   "metadata": {},
   "source": [
    "# **cs3102 Spring 2023**\n",
    "\n",
    "## Problem Set 1 (Jupyter Part): (Un)natural Numbers\n",
    "\n",
    "   \n",
    "**Purpose**  \n",
    "The goal of this part of Problem Set 1 is to explore our constructive recursive definition of Natural Numbers. The programs you will write will be similar to both \"definitions\" and \"proofs\", but as executable code. (Of course, one should be very careful in considering a \"program\" to be a \"proof\", especially without proving the program is correct.) "
   ]
  },
  {
   "cell_type": "markdown",
   "metadata": {},
   "source": [
    "## Defining Natural Numbers\n",
    "\n",
    "We will use Python strings to represent our Natural Numbers. The main point of this is to show that the \"0\" and \"S\" used in the definition are just symbols: we only use string concatenation, extraction, and comparison to build our Natural Number represetation. Of course, this is a ridiculously silly way to represent Natural Numbers if we were actually doing computations on them (especially as Python already provides a built-in integer datatype, which could be naturally used to approximate the Natural Numbers)."
   ]
  },
  {
   "cell_type": "code",
   "execution_count": 1,
   "metadata": {},
   "outputs": [],
   "source": [
    "def makeZero():\n",
    "    return '🍩' \n",
    "\n",
    "def isZero(n):\n",
    "    return n == '🍩' \n",
    "\n",
    "def makeSuccessor(n):\n",
    "    return '+' + n # String concatenation\n",
    "\n",
    "def getPredecessor(n):\n",
    "    assert n[0] == '+' # must be a S(p)\n",
    "    return n[1:] # returns the rest of the string"
   ]
  },
  {
   "cell_type": "markdown",
   "metadata": {},
   "source": [
    "(feel free to replace the emojis we used to your favorites, but be wary of multi-byte unicode characters!)"
   ]
  },
  {
   "cell_type": "code",
   "execution_count": 2,
   "metadata": {},
   "outputs": [
    {
     "data": {
      "text/plain": [
       "'🍩'"
      ]
     },
     "execution_count": 2,
     "metadata": {},
     "output_type": "execute_result"
    }
   ],
   "source": [
    "makeZero()"
   ]
  },
  {
   "cell_type": "code",
   "execution_count": 3,
   "metadata": {},
   "outputs": [
    {
     "data": {
      "text/plain": [
       "'++🍩'"
      ]
     },
     "execution_count": 3,
     "metadata": {},
     "output_type": "execute_result"
    }
   ],
   "source": [
    "makeSuccessor(makeSuccessor(makeZero()))"
   ]
  },
  {
   "cell_type": "code",
   "execution_count": 4,
   "metadata": {},
   "outputs": [],
   "source": [
    "assert(isZero(makeZero()))\n",
    "assert(not isZero(makeSuccessor(makeZero())))\n",
    "assert(isZero(getPredecessor(makeSuccessor(makeZero()))))"
   ]
  },
  {
   "cell_type": "code",
   "execution_count": 5,
   "metadata": {},
   "outputs": [
    {
     "data": {
      "text/plain": [
       "'+🍩'"
      ]
     },
     "execution_count": 5,
     "metadata": {},
     "output_type": "execute_result"
    }
   ],
   "source": [
    "zero = makeZero()\n",
    "one = makeSuccessor(zero)\n",
    "one"
   ]
  },
  {
   "cell_type": "code",
   "execution_count": 6,
   "metadata": {},
   "outputs": [
    {
     "name": "stdout",
     "output_type": "stream",
     "text": [
      "🍩\n"
     ]
    }
   ],
   "source": [
    "print(getPredecessor(one))"
   ]
  },
  {
   "cell_type": "markdown",
   "metadata": {},
   "source": [
    "## Defining Equalty\n",
    "\n",
    "Here's a definition of equality using our Natural Numbers from [Class 2](https://uvatoc.github.io/class2). \n",
    "\n",
    "Note that we could have just defined equality using Python string equality, but that would be tied to our string representation and assume we know what Python's string equality does. Although we are using strings for our representation now, we don't want to rely on anything other than the `makeZero`, `isZero`, `makeSuccessor` and `getPredecessor` functions we defined."
   ]
  },
  {
   "cell_type": "code",
   "execution_count": 7,
   "metadata": {},
   "outputs": [],
   "source": [
    "def equalNumbers(n, m):\n",
    "    \"\"\"Returns true iff n and m represent the same number.\"\"\"\n",
    "    if isZero(n):\n",
    "        return isZero(m)\n",
    "    else:\n",
    "        if isZero(m):\n",
    "            return False\n",
    "        else:\n",
    "            return equalNumbers(getPredecessor(n), getPredecessor(m))"
   ]
  },
  {
   "cell_type": "code",
   "execution_count": 8,
   "metadata": {},
   "outputs": [],
   "source": [
    "two = makeSuccessor(one)\n",
    "three = makeSuccessor(two)\n",
    "four = makeSuccessor(three)\n",
    "\n",
    "assert(equalNumbers(zero, zero))\n",
    "assert(not equalNumbers(one, zero))\n",
    "assert(equalNumbers(four, four))\n",
    "assert(not equalNumbers(four, three))\n",
    "assert(not equalNumbers(three, four))"
   ]
  },
  {
   "cell_type": "markdown",
   "metadata": {},
   "source": [
    "**Problem J1.** Define a function `addNumbers` that takes as input two Natural Numbers (as represented here) and returns a Natural Number that represents the sum of the two inputs."
   ]
  },
  {
   "cell_type": "code",
   "execution_count": 1,
   "metadata": {},
   "outputs": [],
   "source": [
    "def addNumbers(a, b):\n",
    "    \"\"\"Takes two Natural Numbers as input, and outputs a \n",
    "    Natural Number that represents their sum.\"\"\"\n",
    "    pass # fill in with your code for Problem J1"
   ]
  },
  {
   "cell_type": "code",
   "execution_count": null,
   "metadata": {},
   "outputs": [],
   "source": [
    "# Here are some examples to test your addNumbers function. None of the assertions should fail.\n",
    "assert(equalNumbers(addNumbers(two, zero), two))\n",
    "assert(equalNumbers(addNumbers(zero, two), two))\n",
    "assert(equalNumbers(addNumbers(one, one), two))\n",
    "assert(equalNumbers(addNumbers(two, two), four))\n",
    "print (\"All tests passed!\")"
   ]
  },
  {
   "cell_type": "markdown",
   "metadata": {},
   "source": [
    "**Problem J2.** Define a function `greaterNumber` that takes as input two Natural Numbers (as represented here) and returns a Boolean that denotes whether the first input is greater than the second."
   ]
  },
  {
   "cell_type": "code",
   "execution_count": 1,
   "metadata": {},
   "outputs": [],
   "source": [
    "def greaterNumber(a, b):\n",
    "    \"\"\"Takes two Natural Numbers as input, and outputs a Boolean indicating \n",
    "    if the number represented by the first input is greater than (>) the \n",
    "    number represented by the second.\"\"\"\n",
    "    pass # fill in your code for Problem J2"
   ]
  },
  {
   "cell_type": "code",
   "execution_count": null,
   "metadata": {},
   "outputs": [],
   "source": [
    "# Here are some examples to test your greaterNumber function. None of the assertions should fail.\n",
    "assert(greaterNumber(four, three))\n",
    "assert(not greaterNumber(addNumbers(two, zero), two))\n",
    "assert(not greaterNumber(addNumbers(zero, zero), two))\n",
    "assert(not greaterNumber(four, four))\n",
    "assert(greaterNumber(addNumbers(two, three), four))\n",
    "print (\"All tests passed!\")"
   ]
  },
  {
   "cell_type": "markdown",
   "metadata": {},
   "source": [
    "## Unnatural Trees\n",
    "\n",
    "Next, we explore a recursive constructive definition of trees. \n",
    "\n",
    "We will say that a Tree is either the _empty tree_, which we will represent with an acorn: '🌰', or it will be a pair of Trees where the first element of the pair is the left branch and the second element of the pair is the right branch."
   ]
  },
  {
   "cell_type": "code",
   "execution_count": 14,
   "metadata": {},
   "outputs": [],
   "source": [
    "def makeEmptyTree():\n",
    "    \"\"\"Returns the empty tree.\"\"\"\n",
    "    return '🌰'\n",
    "\n",
    "def isEmpty(t):\n",
    "    \"\"\"Takes a Tree as input, and outputs a Boolean indicating if the input is\n",
    "    the empty tree.\"\"\"\n",
    "    return t == '🌰'\n",
    "\n",
    "def makeBranchedTree(l, r):\n",
    "    \"\"\"Takes two Trees as inputs, and outputs a Tree whose left branch is the\n",
    "    first input, and whose right branch is the second input.\"\"\"\n",
    "    # Python note: this makes a tuple, which is essentially an immutable list. \n",
    "    return (l, r)\n",
    "\n",
    "def getLeftBranch(t):\n",
    "    \"\"\"Takes a non-empty Tree as input, and outputs the left branch of that Tree.\n",
    "    (Note that this is a partial function. It is not defined for the empty tree, \n",
    "    and fails with an error on that input.)\"\"\"\n",
    "    assert(not isEmpty(t))\n",
    "    return t[0]\n",
    "\n",
    "def getRightBranch(t):\n",
    "    \"\"\"Takes a non-empty Tree as input, and outputs the right branch of that Tree.\"\"\"\n",
    "    assert(not isEmpty(t))\n",
    "    return t[1]"
   ]
  },
  {
   "cell_type": "markdown",
   "metadata": {},
   "source": [
    "We can make a few example trees."
   ]
  },
  {
   "cell_type": "code",
   "execution_count": 13,
   "metadata": {},
   "outputs": [
    {
     "name": "stdout",
     "output_type": "stream",
     "text": [
      "🌰\n",
      "(('🌰', '🌰'), ('🌰', '🌰'))\n",
      "(('🌰', '🌰'), ((('🌰', '🌰'), ('🌰', '🌰')), (('🌰', '🌰'), ('🌰', '🌰'))))\n"
     ]
    }
   ],
   "source": [
    "emptyTree = makeEmptyTree()\n",
    "print(emptyTree)\n",
    "\n",
    "fullHeight1 = makeBranchedTree(emptyTree, emptyTree)\n",
    "fullHeight2 = makeBranchedTree(fullHeight1, fullHeight1)\n",
    "print(fullHeight2)\n",
    "\n",
    "fullHeight3 = makeBranchedTree(fullHeight2, fullHeight2)\n",
    "unbalancedHeight4 = makeBranchedTree(fullHeight1, fullHeight3)\n",
    "print(unbalancedHeight4)"
   ]
  },
  {
   "cell_type": "markdown",
   "metadata": {},
   "source": [
    "**Problem J3.** Define `treeSize`, `treeHeight`, and `leafCount` functions which that all take a single Tree as their input, and output an int (the regular Python integer type, not our (un)Natural Number type from the earlier problems) that represents the total number of nodes in the tree, the height of the tree, and the total number of leaves in the tree respectively. You may use standard int operations including `+`, `-`, `*`, `<`, etc.).\n",
    "\n",
    "(Hint: a _leaf_ is a Tree whose children are both empty trees, so it may be helful to also write an `isLeaf` function.)"
   ]
  },
  {
   "cell_type": "code",
   "execution_count": 15,
   "metadata": {},
   "outputs": [],
   "source": [
    "def treeSize(t):\n",
    "    \"\"\"Takes a Tree as input, and outputs an int representing the total number of nodes in the tree.\"\"\"\n",
    "    pass # replace with your code"
   ]
  },
  {
   "cell_type": "code",
   "execution_count": null,
   "metadata": {},
   "outputs": [],
   "source": [
    "# Some tests for treeeSize\n",
    "assert(treeSize(emptyTree) == 0)\n",
    "assert(treeSize(fullHeight1) == 1)\n",
    "assert(treeSize(fullHeight2) == 3)\n",
    "assert(treeSize(fullHeight3) == 7)\n",
    "assert(treeSize(unbalancedHeight4) == 9)\n",
    "print(\"Zuka Zama!\")"
   ]
  },
  {
   "cell_type": "code",
   "execution_count": null,
   "metadata": {},
   "outputs": [],
   "source": [
    "def treeHeight(t):\n",
    "    \"\"\"Takes a Tree as input, and outputs the height of that tree.\"\"\"\n",
    "    pass # replace with your code"
   ]
  },
  {
   "cell_type": "code",
   "execution_count": null,
   "metadata": {},
   "outputs": [],
   "source": [
    "assert(treeHeight(emptyTree) == 0)\n",
    "assert(treeHeight(fullHeight1) == 1)\n",
    "assert(treeHeight(fullHeight2) == 2)\n",
    "assert(treeHeight(fullHeight3) == 3)\n",
    "assert(treeHeight(unbalancedHeight4) == 4)\n",
    "print(\"Wahoowa!\")"
   ]
  },
  {
   "cell_type": "code",
   "execution_count": null,
   "metadata": {},
   "outputs": [],
   "source": [
    "def leafCount(t):\n",
    "    \"\"\"Takes a Tree as input, and outputs the total number of leaves of that tree.\"\"\"\n",
    "    pass # replace with your code"
   ]
  },
  {
   "cell_type": "code",
   "execution_count": null,
   "metadata": {},
   "outputs": [],
   "source": [
    "assert(leafCount(emptyTree) == 0)\n",
    "assert(leafCount(fullHeight1) == 1)\n",
    "assert(leafCount(fullHeight2) == 2)\n",
    "assert(leafCount(fullHeight3) == 4)\n",
    "assert(leafCount(unbalancedHeight4) == 5)\n",
    "print(\"Yippee!\")"
   ]
  },
  {
   "cell_type": "markdown",
   "metadata": {},
   "source": [
    "## Bijections\n",
    "\n",
    "We can show two sets are the same size by demonstrating a bijection between the elements in these sets. Intuitively, a bijection shows two sets to be the same size --- since it is _injective_ every input element maps to a unique output element; since it is _surjective_, every possible output element is mapped to by some input. Combined, these two properties cause elements to form matched pairs. \n",
    "\n",
    "Here, we are going to show that the number of binary strings of length <em>n</em> is equal to 2<sup>_n_</sup> by giving a bijection with the natural numbers up to 2<sup>_n_</sup>, i.e., by making these matched pairs. To do this, your goal is to write a function `bitstringToNaturalNumber` which will convert a binary string to a Natural Number (using our constructive definition from earlier in this notebook). \n",
    "\n",
    "Your function should be a one-to-one mapping: there should be some binary string input that produces every natural number, and there should not be any two different binary string inputs that ouput the same natural number. (Note, however, that it is not necessary to assume any particular way of interpreting a bitstring as a number.) \n",
    "\n",
    "**Problem J4.** Write this `bitstringToNaturalNumber` function."
   ]
  },
  {
   "cell_type": "code",
   "execution_count": 2,
   "metadata": {},
   "outputs": [],
   "source": [
    "def bitstringToNaturalNumber(binaryString):\n",
    "    pass"
   ]
  },
  {
   "cell_type": "markdown",
   "metadata": {},
   "source": [
    "The following code checks that every bitstring of length _n_ maps to a different natual number:"
   ]
  },
  {
   "cell_type": "code",
   "execution_count": null,
   "metadata": {},
   "outputs": [],
   "source": [
    "def isOneToOne(n):\n",
    "    allBitStrings = ['']\n",
    "    for i in range (n):\n",
    "        tempBitStrings = []\n",
    "        for bitstring in allBitStrings:\n",
    "            tempBitStrings.append(bitstring + '0')\n",
    "            tempBitStrings.append(bitstring + '1')\n",
    "        allBitStrings = tempBitStrings\n",
    "    allNaturals = []\n",
    "    for bitstring in allBitStrings:\n",
    "        natural = bitstringToNaturalNumber(bitstring)\n",
    "        if natural in allNaturals:\n",
    "            return False\n",
    "        allNaturals.append(natural)\n",
    "    return True\n",
    "\n",
    "assert(isOneToOne(0))\n",
    "assert(isOneToOne(1))\n",
    "assert(isOneToOne(4))\n",
    "print(\"YESSSSS!!!\")"
   ]
  },
  {
   "cell_type": "markdown",
   "metadata": {},
   "source": [
    "### End of Jupyter Notebook for Problem Set 1\n",
    "\n",
    "Make sure to save your completed notebook, and submit it along with your PDF file with the answer to the other problems in `ps1.tex`. "
   ]
  }
 ],
 "metadata": {
  "kernelspec": {
   "display_name": "Python 3 (ipykernel)",
   "language": "python",
   "name": "python3"
  },
  "language_info": {
   "codemirror_mode": {
    "name": "ipython",
    "version": 3
   },
   "file_extension": ".py",
   "mimetype": "text/x-python",
   "name": "python",
   "nbconvert_exporter": "python",
   "pygments_lexer": "ipython3",
   "version": "3.8.3"
  }
 },
 "nbformat": 4,
 "nbformat_minor": 2
}
