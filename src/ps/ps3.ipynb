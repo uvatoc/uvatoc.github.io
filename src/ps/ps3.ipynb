{
 "cells": [
  {
   "cell_type": "markdown",
   "metadata": {},
   "source": [
    "# **cs3120 Spring 2023**\n",
    "\n",
    "## Problem Set 3 (Jupyter Part): Straightline Code and Universality\n",
    "\n",
    "   \n",
    "**Purpose**  \n",
    "The goal of this part of Problem Set 3 is to become familiar with straightline programming and to develop your understanding of and ability to use different computing models that are related to straightline programs."
   ]
  },
  {
   "cell_type": "markdown",
   "metadata": {},
   "source": [
    "## Representing Boolean Values\n",
    "\n",
    "We will use Python int objects to represent Booleans (Python does have a built-in `bool` type with values `True` and `False`, but it will be more convenient for us to use `0` and `1`). To check that a value is actually a Boolean, we provide the `checkBoolean` function."
   ]
  },
  {
   "cell_type": "code",
   "execution_count": null,
   "metadata": {},
   "outputs": [],
   "source": [
    "def checkBoolean(b):\n",
    "    \"\"\"Tests a value is a valid Boolean. We use the int values 0 and 1 to represent \n",
    "    Boolean False and True. (Technically, checkBoolean should not be allowed in a \n",
    "    \"straightline\" program since it is a function call, but we are just using it to\n",
    "    check assertions.)\n",
    "    \"\"\"\n",
    "    assert b == 0 or b == 1\n",
    "    \n",
    "    \n",
    "def all_bitstrings(n):\n",
    "    \"\"\"Returns a list of all binary strings of length n, represented as character sequences. \n",
    "       Do not modify this function.\"\"\"\n",
    "    if n == 0:\n",
    "        return [\"\"]\n",
    "    else:\n",
    "        strings = []\n",
    "        for b in all_bitstrings(n-1):\n",
    "            strings.append(b+\"0\")\n",
    "            strings.append(b+\"1\")\n",
    "        return strings\n",
    "    \n",
    "def string_to_bit(s):\n",
    "    \"\"\"Converts a string singleton representation of a bit to a int bit representation.\"\"\"\n",
    "    if s == '0': return 0\n",
    "    elif s == '1': return 1\n",
    "    assert False, \"Invalid input: \" + s\n",
    "    \n",
    "def bit_to_string(b):\n",
    "    \"\"\"Converts a int Boolean representation to a string singleton representation.\"\"\"\n",
    "    if b == 0: return '0'\n",
    "    elif b == 1: return '1'\n",
    "    assert False, \"Invalid input: \" + b"
   ]
  },
  {
   "cell_type": "markdown",
   "metadata": {},
   "source": [
    "## AON-Straightline Programming \n",
    "\n",
    "For the next few problems we are programming in _AON-Straightline_ code. First, we define the three AON operations:"
   ]
  },
  {
   "cell_type": "code",
   "execution_count": null,
   "metadata": {},
   "outputs": [],
   "source": [
    "def AND(a, b):\n",
    "    \"\"\"Returns a the logical AND of two bit inputs.\"\"\"\n",
    "    checkBoolean(a)\n",
    "    checkBoolean(b)\n",
    "    return a * b\n",
    "\n",
    "def OR(a, b):\n",
    "    \"\"\"Returns the logical OR of two bit inputs.\"\"\"\n",
    "    checkBoolean(a)\n",
    "    checkBoolean(b)\n",
    "    return 1 if a + b >= 1 else 0\n",
    "\n",
    "def NOT(a):\n",
    "    checkBoolean(a)\n",
    "    return 1 - a"
   ]
  },
  {
   "cell_type": "code",
   "execution_count": null,
   "metadata": {},
   "outputs": [],
   "source": [
    "## Testing our AND, OR, NOT operations\n",
    "\n",
    "## If you are confused by the compact pythonic testing code below, try parts of it in simpler ways to understand what\n",
    "## it is doing.\n",
    "assert ''.join([bit_to_string(AND(string_to_bit(i[0]), string_to_bit(i[1]))) for i in all_bitstrings(2)]) == '0001'\n",
    "assert ''.join([bit_to_string(OR(string_to_bit(i[0]), string_to_bit(i[1]))) for i in all_bitstrings(2)]) == '0111'\n",
    "assert ''.join([bit_to_string(NOT(string_to_bit(i[0]))) for i in all_bitstrings(1)]) == '10'"
   ]
  },
  {
   "cell_type": "markdown",
   "metadata": {},
   "source": [
    "In **AON-Straightline Programming**, each line in the program should consist of a new variable declaration on the left-hand side and an AND/OR/NOT operation on the right-hand side or a return statement.\n",
    "\n",
    "To be valid AON-Straightline code, you cannot use any operations besides `AND`/`OR`/`NOT` on the right-hand side and functions that have been defined using only those operations (except for one case where you'll be directed otherwise). You cannot have multiple operations nested (e.g., `NOT(AND(a, b)`) is not permitted), and you cannot re-assign and already assigned variable (e.g., `a = NOT(a)` is not permitted). \n",
    "\n",
    "Keep in mind that the purpose of these restrictions is to define a programming language that is equivalent in power (and easily convertable) to our Boolean circuits definition. (You can use anything you want in assertions and other debugging code, but this code should not have any affect on the computation.)\n",
    "\n",
    "Below, we start out by implementing some of simple logic functions: `XOR`, `NAND`, and `MAJ`. These give you an idea for how AON-Straightline should be written (in general and by you in this assignment). "
   ]
  },
  {
   "cell_type": "code",
   "execution_count": null,
   "metadata": {},
   "outputs": [],
   "source": [
    "def XOR(a, b):\n",
    "    not_a = NOT(a)\n",
    "    not_b = NOT(b)\n",
    "    a_not_b = AND(a, not_b)\n",
    "    b_not_a = AND(b, not_a)\n",
    "    return OR(a_not_b, b_not_a)\n",
    "\n",
    "def NAND(a, b):\n",
    "    a_and_b = AND(a, b)\n",
    "    return NOT(a_and_b)\n",
    "    \n",
    "def MAJ(a, b, c):\n",
    "    first_two = AND(a, b)\n",
    "    last_two = AND(b, c)\n",
    "    first_last = AND(a, c)\n",
    "    temp = OR(first_two, last_two)\n",
    "    return OR(temp, first_last)"
   ]
  },
  {
   "cell_type": "code",
   "execution_count": null,
   "metadata": {},
   "outputs": [],
   "source": [
    "## Some tests to see everything is working:\n",
    "\n",
    "assert ''.join([bit_to_string(XOR(string_to_bit(i[0]), string_to_bit(i[1]))) for i in all_bitstrings(2)]) == '0110'\n",
    "assert ''.join([bit_to_string(NAND(string_to_bit(i[0]), string_to_bit(i[1]))) for i in all_bitstrings(2)]) == '1110'\n",
    "assert ''.join([bit_to_string(MAJ(string_to_bit(i[0]), string_to_bit(i[1]), string_to_bit(i[2]))) \n",
    "                for i in all_bitstrings(3)]) == '00010111'"
   ]
  },
  {
   "cell_type": "markdown",
   "metadata": {},
   "source": [
    "Now you should be ready to write your own AON-Straightline code. Remember to follow the restrictions above - only use AND, OR, NOT or functions that have now been defined using them.\n",
    "\n",
    "**Problem J1.** Implement the implies function (IMPL) described below using **AON-Straightline** code. Your function should correspond to logicial implication, and pass the assertions below."
   ]
  },
  {
   "cell_type": "code",
   "execution_count": null,
   "metadata": {},
   "outputs": [],
   "source": [
    "def IMPL(a, b):\n",
    "    \"\"\"Boolean operator Implies, which is true whenever \"a implies b\" is true.\"\"\"\n",
    "    pass # implement the IMPL function here"
   ]
  },
  {
   "cell_type": "code",
   "execution_count": null,
   "metadata": {},
   "outputs": [],
   "source": [
    "\"\"\"\n",
    "These assertions check that your implementation of IMPL is correct by enumerating all possible inputs. \n",
    "Note there are only finitely many, so (as long as it is a pure function) we can be exhaustive.\n",
    "\"\"\"\n",
    "assert(IMPL(0, 0) == 1)\n",
    "assert(IMPL(0, 1) == 1)\n",
    "assert(IMPL(1, 0) == 0)\n",
    "assert(IMPL(1, 1) == 1)\n",
    "print(\"IMPL works! Nicely, done!\")"
   ]
  },
  {
   "cell_type": "markdown",
   "metadata": {},
   "source": [
    "## NAND Straightline\n",
    "\n",
    "Now we're going to switch from **AON-Straightline** programming to **NAND-Straightline** programming. The only predefined operation in **NAND-Strightline** is NAND, as defined below:"
   ]
  },
  {
   "cell_type": "code",
   "execution_count": null,
   "metadata": {},
   "outputs": [],
   "source": [
    "def NAND(a,b):\n",
    "    checkBoolean(a)\n",
    "    checkBoolean(b)\n",
    "    return 1 - (a * b)"
   ]
  },
  {
   "cell_type": "code",
   "execution_count": null,
   "metadata": {},
   "outputs": [],
   "source": [
    "assert(NAND(0, 0) == 1)\n",
    "assert(NAND(0, 1) == 1)\n",
    "assert(NAND(1, 0) == 1)\n",
    "assert(NAND(1, 1) == 0)"
   ]
  },
  {
   "cell_type": "markdown",
   "metadata": {},
   "source": [
    "**Problem J2.** To demonstrate that **NAND-Straightline** can simulate **AON-Straightline** code, provide definitions of `NOT`, `AND`, and `OR` using only **NAND-Straightline** code."
   ]
  },
  {
   "cell_type": "code",
   "execution_count": null,
   "metadata": {},
   "outputs": [],
   "source": [
    "def NOT(a):\n",
    "    checkBoolean(a)\n",
    "    pass # your code here\n",
    "\n",
    "def AND(a, b):\n",
    "    checkBoolean(a)\n",
    "    checkBoolean(b)\n",
    "    pass # your code here\n",
    "\n",
    "def OR(a, b):\n",
    "    checkBoolean(a)\n",
    "    checkBoolean(b)\n",
    "    pass # your code here"
   ]
  },
  {
   "cell_type": "code",
   "execution_count": null,
   "metadata": {},
   "outputs": [],
   "source": [
    "# Your definitions should pass all the AND/OR/NOT test cases (as above):\n",
    "\n",
    "assert ''.join([bit_to_string(AND(string_to_bit(i[0]), string_to_bit(i[1]))) for i in all_bitstrings(2)]) == '0001'\n",
    "assert ''.join([bit_to_string(OR(string_to_bit(i[0]), string_to_bit(i[1]))) for i in all_bitstrings(2)]) == '0111'\n",
    "assert ''.join([bit_to_string(NOT(string_to_bit(i[0]))) for i in all_bitstrings(1)]) == '10'"
   ]
  },
  {
   "cell_type": "markdown",
   "metadata": {},
   "source": [
    "Here's a definition of `MAJ` using `NAND`:"
   ]
  },
  {
   "cell_type": "code",
   "execution_count": null,
   "metadata": {},
   "outputs": [],
   "source": [
    "def MAJ(a, b, c):\n",
    "    \"\"\"Outputs the majority (the value that appears at least twice) of three Boolean \n",
    "    inputs. (Note that the Pigeonhole Principle ensures that such a majority exists.)\"\"\"\n",
    "    checkBoolean(a)\n",
    "    checkBoolean(b)\n",
    "    checkBoolean(c)\n",
    "    \n",
    "    and1_temp = NAND(a, b)\n",
    "    and1 = NAND(and1_temp, and1_temp)\n",
    "    and2_temp = NAND(b,c)\n",
    "    and2 = NAND(and2_temp, and2_temp)\n",
    "    and3_temp = NAND(a,c)\n",
    "    and3 = NAND(and3_temp,and3_temp)\n",
    "    or1_temp1 = NAND(and1,and1)\n",
    "    or1_temp2 = NAND(and2,and2)\n",
    "    or1 = NAND(or1_temp1, or1_temp2)\n",
    "    or2_temp1 = NAND(or1, or1)\n",
    "    or2_temp2 = NAND(and3, and3)\n",
    "    return NAND(or2_temp1, or2_temp2)"
   ]
  },
  {
   "cell_type": "markdown",
   "metadata": {},
   "source": [
    "**Problem J3.** Re-implement MAJ as a NAND straightline program using no more than 6 lines of **NAND-Straightline** code (you should not use the AND/OR/NOT operations you defined)."
   ]
  },
  {
   "cell_type": "code",
   "execution_count": null,
   "metadata": {},
   "outputs": [],
   "source": [
    "def MAJ2(a,b,c):\n",
    "    # J1: implement MAJ using only 6 NANDs\n",
    "    return MAJ(a,b,c) # replace with your NAND-Straightline code that doesn't use MAJ"
   ]
  },
  {
   "cell_type": "code",
   "execution_count": null,
   "metadata": {},
   "outputs": [],
   "source": [
    "assert ''.join([bit_to_string(MAJ2(string_to_bit(i[0]), string_to_bit(i[1]), string_to_bit(i[2]))) \n",
    "                for i in all_bitstrings(3)]) == '00010111'"
   ]
  },
  {
   "cell_type": "markdown",
   "metadata": {},
   "source": [
    "## Constructive Definitions\n",
    "\n",
    "Chapter 4 of the book defines the `LOOKUP` function. This function takes $2^k + k$ bits of input and gives one bit as output. The output bit returned is the bit from among the first $2^k$ inputs that is indexed by the binary number represented by the last $k$ bits.\n",
    "\n",
    "We can use `IF` to build `LOOKUP` as follows:"
   ]
  },
  {
   "cell_type": "code",
   "execution_count": null,
   "metadata": {},
   "outputs": [],
   "source": [
    "def IF(cond,a,b):\n",
    "    checkBoolean(cond)\n",
    "    checkBoolean(a)\n",
    "    checkBoolean(b)\n",
    "    \n",
    "    not_cond = NAND(cond, cond)\n",
    "    temp1 = NAND(cond, a)\n",
    "    temp2 = NAND(not_cond, b)\n",
    "    return NAND(temp1, temp2)"
   ]
  },
  {
   "cell_type": "code",
   "execution_count": null,
   "metadata": {},
   "outputs": [],
   "source": [
    "def LOOKUP1(x0, x1, i0):\n",
    "    [checkBoolean(x) for x in (x0, x1, i0)] # not strightline code, but just checking\n",
    "    return IF(i0, x1, x0)"
   ]
  },
  {
   "cell_type": "code",
   "execution_count": null,
   "metadata": {},
   "outputs": [],
   "source": [
    "def LOOKUP2(x0,x1,x2,x3,i0,i1):\n",
    "    [checkBoolean(x) for x in (x0, x1, x2, x3, i0, i1)] # just checking\n",
    "    first_half = LOOKUP1(x0, x1, i1)\n",
    "    second_half = LOOKUP1(x2, x3, i1)\n",
    "    return IF(i0, second_half, first_half)\n",
    "\n",
    "def LOOKUP3(x0,x1,x2,x3,x4,x5,x6,x7,i0,i1,i2):\n",
    "    [checkBoolean(x) for x in (x0, x1, x2, x3, x4, x5, x6, x7, i0, i1, i2)] # just checking\n",
    "    first_half = LOOKUP2(x0, x1, x2, x3, i1, i2)\n",
    "    second_half = LOOKUP2(x4, x5, x6, x7, i1, i2)\n",
    "    return IF(i0, second_half, first_half)"
   ]
  },
  {
   "cell_type": "code",
   "execution_count": null,
   "metadata": {},
   "outputs": [],
   "source": [
    "assert(LOOKUP1(0, 1, 0) == 0)\n",
    "assert(LOOKUP1(0, 1, 1) == 1)\n",
    "assert(LOOKUP2(0, 1, 1, 1, 0, 0) == 0)\n",
    "assert(LOOKUP2(0, 1, 1, 1, 0, 1) == 1)\n",
    "assert(LOOKUP2(1, 0, 1, 1, 0, 1) == 0)\n",
    "assert(LOOKUP2(1, 1, 0, 1, 1, 0) == 0)\n",
    "assert(LOOKUP2(1, 1, 0, 1, 1, 1) == 1)\n",
    "assert(LOOKUP2(1, 1, 1, 0, 1, 1) == 0)\n",
    "assert(LOOKUP3(1,0,0,0,0,0,0,0,0,0,0) == 1)\n",
    "assert(LOOKUP3(0,1,0,0,0,0,0,0,0,0,0) == 0)\n",
    "assert(LOOKUP3(0,1,0,0,0,0,0,0,0,0,1) == 1)\n",
    "assert(LOOKUP3(0,0,1,0,0,0,0,0,0,1,0) == 1)\n",
    "assert(LOOKUP3(0,0,0,1,0,0,0,0,0,1,1) == 1)\n",
    "assert(LOOKUP3(0,0,0,0,1,0,0,0,1,0,0) == 1)\n",
    "assert(LOOKUP3(0,0,0,0,0,1,0,0,1,0,1) == 1)\n",
    "assert(LOOKUP3(0,0,0,0,0,0,1,0,1,1,0) == 1)\n",
    "assert(LOOKUP3(0,0,0,0,0,0,0,1,1,1,1) == 1)"
   ]
  },
  {
   "cell_type": "markdown",
   "metadata": {},
   "source": [
    "In these examples we (manually) defined `LOOKUPn` in terms of `LOOKUPn-1`. \n",
    "\n",
    "For the next several problems we will be using a similar idea (of recursive definitions) to construct `ADDn`, a program that will add together $n$-bit numbers. \n",
    "\n",
    "To begin, we will write a half adder. Sometimes when adding $n$-bit numbers, the result will be $n+1$ bits long. For example $10 + 11 = 101$. A half adder is an adder which takes as input two n-bit integers and returns the least significant n bits of their sum. For the previous example, a half add would return `01`. \n",
    "\n",
    "**Problem J4.** Implement a **NAND-straightline** program for a 2-bit half adder below."
   ]
  },
  {
   "cell_type": "code",
   "execution_count": null,
   "metadata": {},
   "outputs": [],
   "source": [
    "def HADD2(a0, a1, b0, b1):\n",
    "    # J3: implement a half adder\n",
    "    [checkBoolean(x) for x in (a0, a1, b0, b1)] # just checking\n",
    "    return 0,0"
   ]
  },
  {
   "cell_type": "code",
   "execution_count": null,
   "metadata": {},
   "outputs": [],
   "source": [
    "assert(HADD2(1,0,1,0) == (0,0))\n",
    "assert(HADD2(1,1,1,0) == (0,1))\n",
    "assert(HADD2(0,0,0,0) == (0,0))\n",
    "assert(HADD2(1,1,0,1) == (0,0))"
   ]
  },
  {
   "cell_type": "markdown",
   "metadata": {},
   "source": [
    "A full adder is a function that takes three bits as input, and gives their two bit sum as output. For example, FADD(0,1,1) = 1,0. The idea of a full adder is that two of the bits will represent input bits in an addition, and the third bit will represent the carry value from the addition of a less-significant bit.\n",
    "\n",
    "**Problem J5.** Implement a **NAND-Straightline** program for a full adder below. "
   ]
  },
  {
   "cell_type": "code",
   "execution_count": null,
   "metadata": {},
   "outputs": [],
   "source": [
    "def FADD(a,b,c):\n",
    "    [checkBoolean(x) for x in (a, b, c)] # just checking\n",
    "    # J4: implement a full adder\n",
    "    return 0, 0"
   ]
  },
  {
   "cell_type": "code",
   "execution_count": null,
   "metadata": {},
   "outputs": [],
   "source": [
    "assert(FADD(0,1,1) == (1,0))\n",
    "assert(FADD(0,0,0) == (0,0))\n",
    "assert(FADD(1,1,1) == (1,1))"
   ]
  },
  {
   "cell_type": "markdown",
   "metadata": {},
   "source": [
    "**Problem J5.** Use the `HADD2` and `FADD` procedures to implement a function that adds together two 4-bit numbers. You may introduce additional procedures as syntactic sugar if you wish, but everything you write should be inlinable as straightline code."
   ]
  },
  {
   "cell_type": "code",
   "execution_count": null,
   "metadata": {},
   "outputs": [],
   "source": [
    "def ADD4(a0,a1,a2,a3,b0,b1,b2,b3):\n",
    "    [checkBoolean(x) for x in (a0, a1, a2, a3, b0, b1, b2, b3)] # just checking\n",
    "    # J5: implement the addition of two 4-bit numbers\n",
    "    return 0,0,0,0,0"
   ]
  },
  {
   "cell_type": "code",
   "execution_count": null,
   "metadata": {},
   "outputs": [],
   "source": [
    "assert(ADD4(0,0,0,0,0,0,0,0) == (0,0,0,0,0))\n",
    "assert(ADD4(0,0,0,1,0,0,0,1) == (0,0,0,1,0))\n",
    "assert(ADD4(1,1,1,1,1,1,1,1) == (1,1,1,1,0))\n",
    "assert(ADD4(1,0,1,0,0,1,0,1) == (0,1,1,1,1))"
   ]
  },
  {
   "cell_type": "markdown",
   "metadata": {},
   "source": [
    "### End of Jupyter Notebook for Problem Set 3\n",
    "\n",
    "Remember to submit both your overleaf PDF and this notebook in GradeScope for Problem Set 3."
   ]
  }
 ],
 "metadata": {
  "kernelspec": {
   "display_name": "Python 3 (ipykernel)",
   "language": "python",
   "name": "python3"
  },
  "language_info": {
   "codemirror_mode": {
    "name": "ipython",
    "version": 3
   },
   "file_extension": ".py",
   "mimetype": "text/x-python",
   "name": "python",
   "nbconvert_exporter": "python",
   "pygments_lexer": "ipython3",
   "version": "3.8.3"
  }
 },
 "nbformat": 4,
 "nbformat_minor": 2
}
